{
 "cells": [
  {
   "cell_type": "code",
   "execution_count": 2,
   "metadata": {},
   "outputs": [],
   "source": [
    "import numpy as np\n",
    "from numpy import linalg as LA\n",
    "from scipy.sparse.linalg import eigs\n",
    "from scipy import sparse\n",
    "import networkx as nx\n",
    "import pandas as pd\n",
    "from sklearn.cluster import SpectralClustering\n",
    "from sklearn.cluster import KMeans\n",
    "from sklearn import metrics\n",
    "from matplotlib import pyplot as plt\n",
    "np.random.seed(1)"
   ]
  },
  {
   "cell_type": "code",
   "execution_count": 3,
   "metadata": {},
   "outputs": [
    {
     "data": {
      "image/png": "[encoded data removed]",
      "text/plain": [
       "<Figure size 432x288 with 1 Axes>"
      ]
     },
     "metadata": {},
     "output_type": "display_data"
    }
   ],
   "source": [
    "my_graph = nx.Graph()\n",
    "edges = nx.read_edgelist('facebook_combined.txt')\n",
    "my_graph.add_edges_from(edges.edges())\n",
    "pos = nx.spring_layout(my_graph)\n",
    "nx.draw(my_graph, pos = pos,font_weight='bold')"
   ]
  },
  {
   "cell_type": "code",
   "execution_count": 4,
   "metadata": {},
   "outputs": [
    {
     "name": "stdout",
     "output_type": "stream",
     "text": [
      "[[0 1 1 ... 0 0 0]\n",
      " [1 0 0 ... 0 0 0]\n",
      " [1 0 0 ... 0 0 0]\n",
      " ...\n",
      " [0 0 0 ... 0 0 0]\n",
      " [0 0 0 ... 0 0 0]\n",
      " [0 0 0 ... 0 0 0]]\n"
     ]
    },
    {
     "data": {
      "text/plain": [
       "<4039x4039 sparse matrix of type '<class 'numpy.intc'>'\n",
       "\twith 176468 stored elements in Compressed Sparse Row format>"
      ]
     },
     "execution_count": 4,
     "metadata": {},
     "output_type": "execute_result"
    }
   ],
   "source": [
    "adj_mat = nx.adjacency_matrix(my_graph)\n",
    "print(adj_mat.todense())\n",
    "adj_mat"
   ]
  },
  {
   "cell_type": "code",
   "execution_count": 5,
   "metadata": {
    "scrolled": true
   },
   "outputs": [
    {
     "name": "stdout",
     "output_type": "stream",
     "text": [
      "degree matrix:\n",
      "[[347   0   0 ...   0   0   0]\n",
      " [  0  17   0 ...   0   0   0]\n",
      " [  0   0  10 ...   0   0   0]\n",
      " ...\n",
      " [  0   0   0 ...   4   0   0]\n",
      " [  0   0   0 ...   0   4   0]\n",
      " [  0   0   0 ...   0   0   6]]\n",
      "laplacian matrix:\n",
      "[[347  -1  -1 ...   0   0   0]\n",
      " [ -1  17   0 ...   0   0   0]\n",
      " [ -1   0  10 ...   0   0   0]\n",
      " ...\n",
      " [  0   0   0 ...   4   0   0]\n",
      " [  0   0   0 ...   0   4   0]\n",
      " [  0   0   0 ...   0   0   6]]\n"
     ]
    }
   ],
   "source": [
    "# degree matrix\n",
    "D = np.diag(np.sum(np.array(adj_mat.todense()), axis=1))\n",
    "print('degree matrix:')\n",
    "print(D)\n",
    "# laplacian matrix\n",
    "L = D - adj_mat\n",
    "print('laplacian matrix:')\n",
    "print(L)\n",
    "Lap_mat = sparse.csr_matrix(L) "
   ]
  },
  {
   "cell_type": "code",
   "execution_count": 6,
   "metadata": {},
   "outputs": [
    {
     "name": "stdout",
     "output_type": "stream",
     "text": [
      "eigenvalues:\n",
      "[1046.0051881 +0.j  792.9952551 +0.j  756.00058809+0.j ...\n",
      "    9.        +0.j    9.        +0.j    9.        +0.j]\n",
      "eigenvectors:\n",
      "[[ 1.42784705e-03+0.j -2.97043036e-06+0.j  6.60437695e-06+0.j ...\n",
      "  -2.79272990e-18+0.j  1.39982293e-18+0.j -5.96385825e-18+0.j]\n",
      " [-1.36541045e-06+0.j  1.50207767e-09+0.j -1.38759455e-08+0.j ...\n",
      "   5.77071117e-16+0.j -1.09621070e-15+0.j  7.39375719e-16+0.j]\n",
      " [-1.36635403e-06+0.j  3.75056585e-09+0.j -8.74751229e-09+0.j ...\n",
      "  -4.12029607e-16+0.j  2.59439734e-15+0.j -1.96203034e-15+0.j]\n",
      " ...\n",
      " [-6.42975010e-12+0.j -2.20054695e-09+0.j  5.42401951e-14+0.j ...\n",
      "  -1.04366019e-16+0.j -9.66224117e-17+0.j -1.12787082e-17+0.j]\n",
      " [-6.42980631e-12+0.j -2.20057440e-09+0.j  5.42408100e-14+0.j ...\n",
      "   2.05764154e-16+0.j -1.16201829e-16+0.j -2.22321924e-16+0.j]\n",
      " [-6.42468059e-12+0.j -2.20057451e-09+0.j  5.42892032e-14+0.j ...\n",
      "   1.07301562e-16+0.j -9.22733126e-16+0.j -1.16657752e-15+0.j]]\n"
     ]
    }
   ],
   "source": [
    "e, v = np.linalg.eig(L)\n",
    "# eigenvalues\n",
    "print('eigenvalues:')\n",
    "print(e)\n",
    "# eigenvectors\n",
    "print('eigenvectors:')\n",
    "print(v)"
   ]
  },
  {
   "cell_type": "code",
   "execution_count": 6,
   "metadata": {},
   "outputs": [
    {
     "data": {
      "text/plain": [
       "7"
      ]
     },
     "execution_count": 6,
     "metadata": {},
     "output_type": "execute_result"
    }
   ],
   "source": [
    "e_zeros = [a for a in e if a < 0.5]\n",
    "len(e_zeros)"
   ]
  },
  {
   "cell_type": "code",
   "execution_count": 8,
   "metadata": {},
   "outputs": [],
   "source": [
    "adj_matrix = nx.to_numpy_matrix(my_graph) #Converts graph to an adj matrix with adj_matrix[i][j] represents weight between node i,j.\n",
    "node_list = list(my_graph.nodes())\n",
    "edge_list = list(my_graph.edges())"
   ]
  },
  {
   "cell_type": "code",
   "execution_count": 8,
   "metadata": {},
   "outputs": [
    {
     "data": {
      "text/plain": [
       "<matplotlib.collections.LineCollection at 0x1b0747a4610>"
      ]
     },
     "execution_count": 8,
     "metadata": {},
     "output_type": "execute_result"
    },
    {
     "data": {
      "image/png": "[encoded data removed]",
      "text/plain": [
       "<Figure size 432x288 with 1 Axes>"
      ]
     },
     "metadata": {},
     "output_type": "display_data"
    }
   ],
   "source": [
    "clusters = SpectralClustering(affinity = 'precomputed', assign_labels=\"kmeans\",random_state=0,n_clusters=7).fit_predict(adj_mat)\n",
    "\n",
    "\n",
    "node_cluster_map = dict(zip(node_list, clusters))\n",
    "colors = ['green', 'royalblue', 'red', 'orange', 'cyan','blue','yellow']\n",
    "color_map = dict(zip(range(7), colors))\n",
    "graph = nx.Graph()\n",
    "graph.add_nodes_from(node_list)\n",
    "\n",
    "nodes_by_color = {val: [node for node in graph if color_map[node_cluster_map[node]] == val]\n",
    "                  for val in colors}\n",
    "\n",
    "for color, node_names in nodes_by_color.items():\n",
    "    nx.draw_networkx_nodes(graph, pos=pos, nodelist=node_names, node_color=color)\n",
    "graph.add_edges_from(edge_list)    \n",
    "\n",
    "nx.draw_networkx_edges(graph, pos=pos)"
   ]
  },
  {
   "cell_type": "code",
   "execution_count": 9,
   "metadata": {
    "scrolled": true
   },
   "outputs": [
    {
     "data": {
      "text/plain": [
       "(205, 752, 59, 341, 548, 1348, 786)"
      ]
     },
     "execution_count": 9,
     "metadata": {},
     "output_type": "execute_result"
    }
   ],
   "source": [
    "cluster_1_nodes = []\n",
    "cluster_2_nodes = []\n",
    "cluster_3_nodes = []\n",
    "cluster_4_nodes = []\n",
    "cluster_5_nodes = []\n",
    "cluster_6_nodes = []\n",
    "cluster_7_nodes = []\n",
    "\n",
    "for ea in pos.keys():\n",
    "    if ea in nodes_by_color['green']:\n",
    "        cluster_1_nodes.append(ea)\n",
    "    elif ea in nodes_by_color['royalblue']:\n",
    "        cluster_2_nodes.append(ea)\n",
    "    elif ea in nodes_by_color['red']:\n",
    "        cluster_3_nodes.append(ea)\n",
    "    elif ea in nodes_by_color['orange']:\n",
    "        cluster_4_nodes.append(ea)\n",
    "    elif ea in nodes_by_color['cyan']:\n",
    "        cluster_5_nodes.append(ea)\n",
    "    elif ea in nodes_by_color['blue']:\n",
    "        cluster_6_nodes.append(ea)\n",
    "    elif ea in nodes_by_color['yellow']:\n",
    "        cluster_7_nodes.append(ea)\n",
    "        \n",
    "len(cluster_1_nodes),len(cluster_2_nodes),len(cluster_3_nodes),len(cluster_4_nodes),len(cluster_5_nodes),len(cluster_6_nodes),len(cluster_7_nodes)"
   ]
  },
  {
   "cell_type": "code",
   "execution_count": 10,
   "metadata": {},
   "outputs": [],
   "source": [
    "cluster_1 = graph.subgraph(cluster_1_nodes)\n",
    "cluster_2 = graph.subgraph(cluster_2_nodes)\n",
    "cluster_3 = graph.subgraph(cluster_3_nodes)\n",
    "cluster_4 = graph.subgraph(cluster_4_nodes)\n",
    "cluster_5 = graph.subgraph(cluster_5_nodes)\n",
    "cluster_6 = graph.subgraph(cluster_6_nodes)\n",
    "cluster_7 = graph.subgraph(cluster_7_nodes)"
   ]
  },
  {
   "cell_type": "code",
   "execution_count": 11,
   "metadata": {},
   "outputs": [],
   "source": [
    "center_1 = nx.center(cluster_1)\n",
    "center_2 = nx.center(cluster_2)\n",
    "center_3 = nx.center(cluster_3)\n",
    "center_4 = nx.center(cluster_4)\n",
    "center_5 = nx.center(cluster_5)\n",
    "center_6 = nx.center(cluster_6)\n",
    "center_7 = nx.center(cluster_7)"
   ]
  },
  {
   "cell_type": "code",
   "execution_count": 12,
   "metadata": {
    "scrolled": true
   },
   "outputs": [
    {
     "name": "stdout",
     "output_type": "stream",
     "text": [
      "Center nodes of Cluster 1:\n",
      "['747', '713', '810', '703', '772', '798', '719', '729', '823', '774', '804', '805', '769', '698', '800', '825', '753', '803', '708', '828', '811', '856', '686', '697', '830', '840', '745', '776', '819']\n",
      "Center nodes of Cluster 2:\n",
      "['1912']\n",
      "Center nodes of Cluster 3:\n",
      "['3980']\n",
      "Center nodes of Cluster 4:\n",
      "['0']\n",
      "Center nodes of Cluster 5:\n",
      "['3797', '3721', '1085', '3456', '3626', '3501', '3577', '3592', '3779', '3495', '3437', '3872', '862', '3621', '3550', '3517', '3684', '3609', '857', '3633', '3948', '3677', '3586']\n",
      "Center nodes of Cluster 6:\n",
      "['483', '376', '563', '414', '566', '348', '475', '428', '107']\n",
      "Center nodes of Cluster 7:\n",
      "['1684']\n"
     ]
    }
   ],
   "source": [
    "print(\"Center nodes of Cluster 1:\")\n",
    "print(center_1)\n",
    "print(\"Center nodes of Cluster 2:\")\n",
    "print(center_2)\n",
    "print(\"Center nodes of Cluster 3:\")\n",
    "print(center_3)\n",
    "print(\"Center nodes of Cluster 4:\")\n",
    "print(center_4)\n",
    "print(\"Center nodes of Cluster 5:\")\n",
    "print(center_5)\n",
    "print(\"Center nodes of Cluster 6:\")\n",
    "print(center_6)\n",
    "print(\"Center nodes of Cluster 7:\")\n",
    "print(center_7)"
   ]
  },
  {
   "cell_type": "code",
   "execution_count": 10,
   "metadata": {},
   "outputs": [
    {
     "name": "stdout",
     "output_type": "stream",
     "text": [
      "(0.006158623641304022+0j)\n",
      "0.003079311820652011\n"
     ]
    }
   ],
   "source": [
    "e_vals,e_vecs = eigs(adj_matrix, k = 6)\n",
    "e_val_max = max(e_vals)\n",
    "rho = 1/e_val_max\n",
    "alpha = 0.5 * (rho).real\n",
    "print(rho)\n",
    "print(alpha)"
   ]
  },
  {
   "cell_type": "code",
   "execution_count": 24,
   "metadata": {},
   "outputs": [
    {
     "name": "stdout",
     "output_type": "stream",
     "text": [
      "First 12 nodes with highest Eigenvector Centrality in the network\n"
     ]
    },
    {
     "data": {
      "text/plain": [
       "[('1912', 0.09540696149067633),\n",
       " ('2266', 0.08698327767886553),\n",
       " ('2206', 0.0860523927058434),\n",
       " ('2233', 0.08517340912756598),\n",
       " ('2464', 0.08427877475676092),\n",
       " ('2142', 0.08419311897991795),\n",
       " ('2218', 0.08415573568055032),\n",
       " ('2078', 0.08413617041724976),\n",
       " ('2123', 0.08367141238206224),\n",
       " ('1993', 0.0835324284081597),\n",
       " ('2410', 0.0835175116214819),\n",
       " ('2244', 0.08334186008004285)]"
      ]
     },
     "metadata": {},
     "output_type": "display_data"
    },
    {
     "name": "stdout",
     "output_type": "stream",
     "text": [
      "First 12 nodes with highest Katz Centrality in the network\n"
     ]
    },
    {
     "data": {
      "text/plain": [
       "[('107', 0.06418939083650059),\n",
       " ('1912', 0.05554549226809295),\n",
       " ('1684', 0.04846720640132563),\n",
       " ('3437', 0.03562984914234513),\n",
       " ('2347', 0.03379814870999059),\n",
       " ('2543', 0.033517005512886264),\n",
       " ('2266', 0.030407975734294514),\n",
       " ('1985', 0.02987959313184934),\n",
       " ('2233', 0.029779769378018642),\n",
       " ('2142', 0.029610130489357192),\n",
       " ('2206', 0.02919535857838445),\n",
       " ('2410', 0.028862080127472944)]"
      ]
     },
     "metadata": {},
     "output_type": "display_data"
    },
    {
     "name": "stdout",
     "output_type": "stream",
     "text": [
      "First 12 nodes with highest Degree Centrality in the network\n"
     ]
    },
    {
     "data": {
      "text/plain": [
       "[('107', 0.258791480931154),\n",
       " ('1684', 0.1961367013372957),\n",
       " ('1912', 0.18697374938088163),\n",
       " ('3437', 0.13546310054482416),\n",
       " ('0', 0.08593363051015354),\n",
       " ('2543', 0.07280832095096582),\n",
       " ('2347', 0.07206537890044576),\n",
       " ('1888', 0.0629024269440317),\n",
       " ('1800', 0.06067360079247152),\n",
       " ('1663', 0.058197127290737984),\n",
       " ('1352', 0.05794947994056463),\n",
       " ('2266', 0.05794947994056463)]"
      ]
     },
     "metadata": {},
     "output_type": "display_data"
    },
    {
     "name": "stdout",
     "output_type": "stream",
     "text": [
      "First 12 nodes with highest Shortest Path Betweenness Centrality in the network\n"
     ]
    },
    {
     "data": {
      "text/plain": [
       "[('107', 0.4805180785560152),\n",
       " ('1684', 0.3377974497301997),\n",
       " ('3437', 0.236115357358927),\n",
       " ('1912', 0.22929533958687828),\n",
       " ('1085', 0.1490150921166576),\n",
       " ('0', 0.14630592147443144),\n",
       " ('698', 0.11533045020561003),\n",
       " ('567', 0.09631033121856167),\n",
       " ('58', 0.08436020590796443),\n",
       " ('428', 0.06430906239323894),\n",
       " ('563', 0.0627802284724079),\n",
       " ('860', 0.057825906870914066)]"
      ]
     },
     "metadata": {},
     "output_type": "display_data"
    }
   ],
   "source": [
    "eg_centrality = nx.eigenvector_centrality(graph)\n",
    "print(\"First 12 nodes with highest Eigenvector Centrality in the network\")\n",
    "display(sorted(eg_centrality.items(), key=lambda f: f[1], reverse = True)[:12])\n",
    "\n",
    "kz_centrality = nx.katz_centrality(graph, alpha)\n",
    "print(\"First 12 nodes with highest Katz Centrality in the network\")\n",
    "display(sorted(kz_centrality.items(), key=lambda f: f[1], reverse = True)[:12])\n",
    "\n",
    "dg_centrality = nx.degree_centrality(graph)\n",
    "print(\"First 12 nodes with highest Degree Centrality in the network\")\n",
    "display(sorted(dg_centrality.items(), key=lambda f: f[1], reverse = True)[:12])\n",
    "\n",
    "spb_centrality = nx.betweenness_centrality(graph)\n",
    "print(\"First 12 nodes with highest Shortest Path Betweenness Centrality in the network\")\n",
    "display(sorted(spb_centrality.items(), key=lambda f: f[1], reverse = True)[:12])"
   ]
  },
  {
   "cell_type": "code",
   "execution_count": 44,
   "metadata": {},
   "outputs": [
    {
     "name": "stdout",
     "output_type": "stream",
     "text": [
      "Average Katz Centrality measure\n"
     ]
    },
    {
     "data": {
      "text/plain": [
       "0.015331952176446667"
      ]
     },
     "metadata": {},
     "output_type": "display_data"
    },
    {
     "name": "stdout",
     "output_type": "stream",
     "text": [
      "Average Eigenvector Centrality measure\n"
     ]
    },
    {
     "data": {
      "text/plain": [
       "0.003864340807927154"
      ]
     },
     "metadata": {},
     "output_type": "display_data"
    },
    {
     "name": "stdout",
     "output_type": "stream",
     "text": [
      "Average Degree Centrality measure\n"
     ]
    },
    {
     "data": {
      "text/plain": [
       "0.010819963503439287"
      ]
     },
     "metadata": {},
     "output_type": "display_data"
    },
    {
     "name": "stdout",
     "output_type": "stream",
     "text": [
      "Average Betweenness Centrality measure\n"
     ]
    },
    {
     "data": {
      "text/plain": [
       "0.0006669573568730238"
      ]
     },
     "metadata": {},
     "output_type": "display_data"
    }
   ],
   "source": [
    "print(\"Average Katz Centrality measure\")\n",
    "display(np.array(list(kz_centrality.values())).mean())\n",
    "print(\"Average Eigenvector Centrality measure\")\n",
    "display(np.array(list(eg_centrality.values())).mean())\n",
    "print(\"Average Degree Centrality measure\")\n",
    "display(np.array(list(dg_centrality.values())).mean())\n",
    "print(\"Average Betweenness Centrality measure\")\n",
    "display(np.array(list(spb_centrality.values())).mean())"
   ]
  },
  {
   "cell_type": "code",
   "execution_count": 48,
   "metadata": {},
   "outputs": [
    {
     "name": "stdout",
     "output_type": "stream",
     "text": [
      "Katz Centrality measure of cluster 1 centres\n"
     ]
    },
    {
     "data": {
      "text/plain": [
       "0.01453631282209463"
      ]
     },
     "metadata": {},
     "output_type": "display_data"
    },
    {
     "name": "stdout",
     "output_type": "stream",
     "text": [
      "Katz Centrality measure of cluster 2 centres\n"
     ]
    },
    {
     "data": {
      "text/plain": [
       "0.05554549226809295"
      ]
     },
     "metadata": {},
     "output_type": "display_data"
    },
    {
     "name": "stdout",
     "output_type": "stream",
     "text": [
      "Katz Centrality measure of cluster 3 centres\n"
     ]
    },
    {
     "data": {
      "text/plain": [
       "0.015070001957921382"
      ]
     },
     "metadata": {},
     "output_type": "display_data"
    },
    {
     "name": "stdout",
     "output_type": "stream",
     "text": [
      "Katz Centrality measure of cluster 4 centres\n"
     ]
    },
    {
     "data": {
      "text/plain": [
       "0.027254165550663574"
      ]
     },
     "metadata": {},
     "output_type": "display_data"
    },
    {
     "name": "stdout",
     "output_type": "stream",
     "text": [
      "Katz Centrality measure of cluster 5 centres\n"
     ]
    },
    {
     "data": {
      "text/plain": [
       "0.015330726761023625"
      ]
     },
     "metadata": {},
     "output_type": "display_data"
    },
    {
     "name": "stdout",
     "output_type": "stream",
     "text": [
      "Katz Centrality measure of cluster 6 centres\n"
     ]
    },
    {
     "data": {
      "text/plain": [
       "0.024617332130078926"
      ]
     },
     "metadata": {},
     "output_type": "display_data"
    },
    {
     "name": "stdout",
     "output_type": "stream",
     "text": [
      "Katz Centrality measure of cluster 7 centres\n"
     ]
    },
    {
     "data": {
      "text/plain": [
       "0.04846720640132563"
      ]
     },
     "metadata": {},
     "output_type": "display_data"
    }
   ],
   "source": [
    "print(\"Katz Centrality measure of cluster 1 centres\")\n",
    "display(np.array([kz_centrality[i] for i in center_1]).mean())\n",
    "print(\"Katz Centrality measure of cluster 2 centres\")\n",
    "display(np.array([kz_centrality[i] for i in center_2]).mean())\n",
    "print(\"Katz Centrality measure of cluster 3 centres\")\n",
    "display(np.array([kz_centrality[i] for i in center_3]).mean())\n",
    "print(\"Katz Centrality measure of cluster 4 centres\")\n",
    "display(np.array([kz_centrality[i] for i in center_4]).mean())\n",
    "print(\"Katz Centrality measure of cluster 5 centres\")\n",
    "display(np.array([kz_centrality[i] for i in center_5]).mean())\n",
    "print(\"Katz Centrality measure of cluster 6 centres\")\n",
    "display(np.array([kz_centrality[i] for i in center_6]).mean())\n",
    "print(\"Katz Centrality measure of cluster 7 centres\")\n",
    "display(np.array([kz_centrality[i] for i in center_7]).mean())"
   ]
  },
  {
   "cell_type": "code",
   "execution_count": 49,
   "metadata": {},
   "outputs": [
    {
     "name": "stdout",
     "output_type": "stream",
     "text": [
      "Degree Centrality measure of cluster 1 centres\n"
     ]
    },
    {
     "data": {
      "text/plain": [
       "0.010264555686495534"
      ]
     },
     "metadata": {},
     "output_type": "display_data"
    },
    {
     "name": "stdout",
     "output_type": "stream",
     "text": [
      "Degree Centrality measure of cluster 2 centres\n"
     ]
    },
    {
     "data": {
      "text/plain": [
       "0.18697374938088163"
      ]
     },
     "metadata": {},
     "output_type": "display_data"
    },
    {
     "name": "stdout",
     "output_type": "stream",
     "text": [
      "Degree Centrality measure of cluster 3 centres\n"
     ]
    },
    {
     "data": {
      "text/plain": [
       "0.014611193660227836"
      ]
     },
     "metadata": {},
     "output_type": "display_data"
    },
    {
     "name": "stdout",
     "output_type": "stream",
     "text": [
      "Degree Centrality measure of cluster 4 centres\n"
     ]
    },
    {
     "data": {
      "text/plain": [
       "0.08593363051015354"
      ]
     },
     "metadata": {},
     "output_type": "display_data"
    },
    {
     "name": "stdout",
     "output_type": "stream",
     "text": [
      "Degree Centrality measure of cluster 5 centres\n"
     ]
    },
    {
     "data": {
      "text/plain": [
       "0.014471219070999419"
      ]
     },
     "metadata": {},
     "output_type": "display_data"
    },
    {
     "name": "stdout",
     "output_type": "stream",
     "text": [
      "Degree Centrality measure of cluster 6 centres\n"
     ]
    },
    {
     "data": {
      "text/plain": [
       "0.06081118265367894"
      ]
     },
     "metadata": {},
     "output_type": "display_data"
    },
    {
     "name": "stdout",
     "output_type": "stream",
     "text": [
      "Degree Centrality measure of cluster 7 centres\n"
     ]
    },
    {
     "data": {
      "text/plain": [
       "0.1961367013372957"
      ]
     },
     "metadata": {},
     "output_type": "display_data"
    }
   ],
   "source": [
    "print(\"Degree Centrality measure of cluster 1 centres\")\n",
    "display(np.array([dg_centrality[i] for i in center_1]).mean())\n",
    "print(\"Degree Centrality measure of cluster 2 centres\")\n",
    "display(np.array([dg_centrality[i] for i in center_2]).mean())\n",
    "print(\"Degree Centrality measure of cluster 3 centres\")\n",
    "display(np.array([dg_centrality[i] for i in center_3]).mean())\n",
    "print(\"Degree Centrality measure of cluster 4 centres\")\n",
    "display(np.array([dg_centrality[i] for i in center_4]).mean())\n",
    "print(\"Degree Centrality measure of cluster 5 centres\")\n",
    "display(np.array([dg_centrality[i] for i in center_5]).mean())\n",
    "print(\"Degree Centrality measure of cluster 6 centres\")\n",
    "display(np.array([dg_centrality[i] for i in center_6]).mean())\n",
    "print(\"Degree Centrality measure of cluster 7 centres\")\n",
    "display(np.array([dg_centrality[i] for i in center_7]).mean())"
   ]
  },
  {
   "cell_type": "code",
   "execution_count": 50,
   "metadata": {},
   "outputs": [
    {
     "name": "stdout",
     "output_type": "stream",
     "text": [
      "Eigenvector Centrality measure of cluster 1 centres\n"
     ]
    },
    {
     "data": {
      "text/plain": [
       "4.6626942784463956e-11"
      ]
     },
     "metadata": {},
     "output_type": "display_data"
    },
    {
     "name": "stdout",
     "output_type": "stream",
     "text": [
      "Eigenvector Centrality measure of cluster 2 centres\n"
     ]
    },
    {
     "data": {
      "text/plain": [
       "0.09540696149067633"
      ]
     },
     "metadata": {},
     "output_type": "display_data"
    },
    {
     "name": "stdout",
     "output_type": "stream",
     "text": [
      "Eigenvector Centrality measure of cluster 3 centres\n"
     ]
    },
    {
     "data": {
      "text/plain": [
       "4.72235626127197e-08"
      ]
     },
     "metadata": {},
     "output_type": "display_data"
    },
    {
     "name": "stdout",
     "output_type": "stream",
     "text": [
      "Eigenvector Centrality measure of cluster 4 centres\n"
     ]
    },
    {
     "data": {
      "text/plain": [
       "3.3917961722702e-05"
      ]
     },
     "metadata": {},
     "output_type": "display_data"
    },
    {
     "name": "stdout",
     "output_type": "stream",
     "text": [
      "Eigenvector Centrality measure of cluster 5 centres\n"
     ]
    },
    {
     "data": {
      "text/plain": [
       "1.596133340008381e-07"
      ]
     },
     "metadata": {},
     "output_type": "display_data"
    },
    {
     "name": "stdout",
     "output_type": "stream",
     "text": [
      "Eigenvector Centrality measure of cluster 6 centres\n"
     ]
    },
    {
     "data": {
      "text/plain": [
       "0.00017104282526949125"
      ]
     },
     "metadata": {},
     "output_type": "display_data"
    },
    {
     "name": "stdout",
     "output_type": "stream",
     "text": [
      "Eigenvector Centrality measure of cluster 7 centres\n"
     ]
    },
    {
     "data": {
      "text/plain": [
       "7.164259790119272e-06"
      ]
     },
     "metadata": {},
     "output_type": "display_data"
    }
   ],
   "source": [
    "print(\"Eigenvector Centrality measure of cluster 1 centres\")\n",
    "display(np.array([eg_centrality[i] for i in center_1]).mean())\n",
    "print(\"Eigenvector Centrality measure of cluster 2 centres\")\n",
    "display(np.array([eg_centrality[i] for i in center_2]).mean())\n",
    "print(\"Eigenvector Centrality measure of cluster 3 centres\")\n",
    "display(np.array([eg_centrality[i] for i in center_3]).mean())\n",
    "print(\"Eigenvector Centrality measure of cluster 4 centres\")\n",
    "display(np.array([eg_centrality[i] for i in center_4]).mean())\n",
    "print(\"Eigenvector Centrality measure of cluster 5 centres\")\n",
    "display(np.array([eg_centrality[i] for i in center_5]).mean())\n",
    "print(\"Eigenvector Centrality measure of cluster 6 centres\")\n",
    "display(np.array([eg_centrality[i] for i in center_6]).mean())\n",
    "print(\"Eigenvector Centrality measure of cluster 7 centres\")\n",
    "display(np.array([eg_centrality[i] for i in center_7]).mean())"
   ]
  },
  {
   "cell_type": "code",
   "execution_count": 53,
   "metadata": {},
   "outputs": [
    {
     "name": "stdout",
     "output_type": "stream",
     "text": [
      "Betweenness Centrality measure of cluster 1 centres\n"
     ]
    },
    {
     "data": {
      "text/plain": [
       "0.006349208454965189"
      ]
     },
     "metadata": {},
     "output_type": "display_data"
    },
    {
     "name": "stdout",
     "output_type": "stream",
     "text": [
      "Betweenness Centrality measure of cluster 2 centres\n"
     ]
    },
    {
     "data": {
      "text/plain": [
       "0.22929533958687828"
      ]
     },
     "metadata": {},
     "output_type": "display_data"
    },
    {
     "name": "stdout",
     "output_type": "stream",
     "text": [
      "Betweenness Centrality measure of cluster 3 centres\n"
     ]
    },
    {
     "data": {
      "text/plain": [
       "0.02482003363624553"
      ]
     },
     "metadata": {},
     "output_type": "display_data"
    },
    {
     "name": "stdout",
     "output_type": "stream",
     "text": [
      "Betweenness Centrality measure of cluster 4 centres\n"
     ]
    },
    {
     "data": {
      "text/plain": [
       "0.14630592147443144"
      ]
     },
     "metadata": {},
     "output_type": "display_data"
    },
    {
     "name": "stdout",
     "output_type": "stream",
     "text": [
      "Betweenness Centrality measure of cluster 5 centres\n"
     ]
    },
    {
     "data": {
      "text/plain": [
       "0.01778349217459093"
      ]
     },
     "metadata": {},
     "output_type": "display_data"
    },
    {
     "name": "stdout",
     "output_type": "stream",
     "text": [
      "Betweenness Centrality measure of cluster 6 centres\n"
     ]
    },
    {
     "data": {
      "text/plain": [
       "0.07961429396815625"
      ]
     },
     "metadata": {},
     "output_type": "display_data"
    },
    {
     "name": "stdout",
     "output_type": "stream",
     "text": [
      "Betweenness Centrality measure of cluster 7 centres\n"
     ]
    },
    {
     "data": {
      "text/plain": [
       "0.3377974497301997"
      ]
     },
     "metadata": {},
     "output_type": "display_data"
    }
   ],
   "source": [
    "print(\"Betweenness Centrality measure of cluster 1 centres\")\n",
    "display(np.array([spb_centrality[i] for i in center_1]).mean())\n",
    "print(\"Betweenness Centrality measure of cluster 2 centres\")\n",
    "display(np.array([spb_centrality[i] for i in center_2]).mean())\n",
    "print(\"Betweenness Centrality measure of cluster 3 centres\")\n",
    "display(np.array([spb_centrality[i] for i in center_3]).mean())\n",
    "print(\"Betweenness Centrality measure of cluster 4 centres\")\n",
    "display(np.array([spb_centrality[i] for i in center_4]).mean())\n",
    "print(\"Betweenness Centrality measure of cluster 5 centres\")\n",
    "display(np.array([spb_centrality[i] for i in center_5]).mean())\n",
    "print(\"Betweenness Centrality measure of cluster 6 centres\")\n",
    "display(np.array([spb_centrality[i] for i in center_6]).mean())\n",
    "print(\"Betweenness Centrality measure of cluster 7 centres\")\n",
    "display(np.array([spb_centrality[i] for i in center_7]).mean())"
   ]
  },
  {
   "cell_type": "code",
   "execution_count": 15,
   "metadata": {},
   "outputs": [
    {
     "data": {
      "text/html": [
       "<div>\n",
       "<style scoped>\n",
       "    .dataframe tbody tr th:only-of-type {\n",
       "        vertical-align: middle;\n",
       "    }\n",
       "\n",
       "    .dataframe tbody tr th {\n",
       "        vertical-align: top;\n",
       "    }\n",
       "\n",
       "    .dataframe thead th {\n",
       "        text-align: right;\n",
       "    }\n",
       "</style>\n",
       "<table border=\"1\" class=\"dataframe\">\n",
       "  <thead>\n",
       "    <tr style=\"text-align: right;\">\n",
       "      <th></th>\n",
       "      <th>Node</th>\n",
       "      <th>Centrality</th>\n",
       "    </tr>\n",
       "  </thead>\n",
       "  <tbody>\n",
       "    <tr>\n",
       "      <th>1</th>\n",
       "      <td>107</td>\n",
       "      <td>0.035290</td>\n",
       "    </tr>\n",
       "    <tr>\n",
       "      <th>2</th>\n",
       "      <td>1912</td>\n",
       "      <td>0.030178</td>\n",
       "    </tr>\n",
       "    <tr>\n",
       "      <th>3</th>\n",
       "      <td>1684</td>\n",
       "      <td>0.029938</td>\n",
       "    </tr>\n",
       "    <tr>\n",
       "      <th>4</th>\n",
       "      <td>3437</td>\n",
       "      <td>0.024982</td>\n",
       "    </tr>\n",
       "    <tr>\n",
       "      <th>5</th>\n",
       "      <td>2543</td>\n",
       "      <td>0.021261</td>\n",
       "    </tr>\n",
       "    <tr>\n",
       "      <th>6</th>\n",
       "      <td>0</td>\n",
       "      <td>0.021251</td>\n",
       "    </tr>\n",
       "    <tr>\n",
       "      <th>7</th>\n",
       "      <td>2347</td>\n",
       "      <td>0.021243</td>\n",
       "    </tr>\n",
       "    <tr>\n",
       "      <th>8</th>\n",
       "      <td>1888</td>\n",
       "      <td>0.020196</td>\n",
       "    </tr>\n",
       "    <tr>\n",
       "      <th>9</th>\n",
       "      <td>2266</td>\n",
       "      <td>0.020024</td>\n",
       "    </tr>\n",
       "    <tr>\n",
       "      <th>10</th>\n",
       "      <td>1800</td>\n",
       "      <td>0.020011</td>\n",
       "    </tr>\n",
       "    <tr>\n",
       "      <th>11</th>\n",
       "      <td>1985</td>\n",
       "      <td>0.019834</td>\n",
       "    </tr>\n",
       "    <tr>\n",
       "      <th>12</th>\n",
       "      <td>1663</td>\n",
       "      <td>0.019812</td>\n",
       "    </tr>\n",
       "  </tbody>\n",
       "</table>\n",
       "</div>"
      ],
      "text/plain": [
       "    Node  Centrality\n",
       "1    107    0.035290\n",
       "2   1912    0.030178\n",
       "3   1684    0.029938\n",
       "4   3437    0.024982\n",
       "5   2543    0.021261\n",
       "6      0    0.021251\n",
       "7   2347    0.021243\n",
       "8   1888    0.020196\n",
       "9   2266    0.020024\n",
       "10  1800    0.020011\n",
       "11  1985    0.019834\n",
       "12  1663    0.019812"
      ]
     },
     "execution_count": 15,
     "metadata": {},
     "output_type": "execute_result"
    }
   ],
   "source": [
    "eg_12_nodes = sorted(eg_centrality.items(), key=lambda f: f[1], reverse = True)[:12]\n",
    "kz_12_nodes = sorted(kz_centrality.items(), key=lambda f: f[1], reverse = True)[:12]\n",
    "df_eg_12_nodes = pd.DataFrame.from_records(eg_12_nodes, columns =['Node', 'Centrality']) \n",
    "\n",
    "df_kz_12_nodes = pd.DataFrame.from_records(kz_12_nodes, columns =['Node', 'Centrality'])\n",
    "df_eg_12_nodes.index = df_eg_12_nodes.index + 1\n",
    "df_kz_12_nodes.index = df_kz_12_nodes.index + 1\n",
    "df_kz_12_nodes"
   ]
  },
  {
   "cell_type": "code",
   "execution_count": 16,
   "metadata": {},
   "outputs": [
    {
     "data": {
      "text/html": [
       "<div>\n",
       "<style scoped>\n",
       "    .dataframe tbody tr th:only-of-type {\n",
       "        vertical-align: middle;\n",
       "    }\n",
       "\n",
       "    .dataframe tbody tr th {\n",
       "        vertical-align: top;\n",
       "    }\n",
       "\n",
       "    .dataframe thead th {\n",
       "        text-align: right;\n",
       "    }\n",
       "</style>\n",
       "<table border=\"1\" class=\"dataframe\">\n",
       "  <thead>\n",
       "    <tr style=\"text-align: right;\">\n",
       "      <th></th>\n",
       "      <th>Node</th>\n",
       "      <th>Centrality</th>\n",
       "    </tr>\n",
       "  </thead>\n",
       "  <tbody>\n",
       "    <tr>\n",
       "      <th>1</th>\n",
       "      <td>107</td>\n",
       "      <td>0.480518</td>\n",
       "    </tr>\n",
       "    <tr>\n",
       "      <th>2</th>\n",
       "      <td>1684</td>\n",
       "      <td>0.337797</td>\n",
       "    </tr>\n",
       "    <tr>\n",
       "      <th>3</th>\n",
       "      <td>3437</td>\n",
       "      <td>0.236115</td>\n",
       "    </tr>\n",
       "    <tr>\n",
       "      <th>4</th>\n",
       "      <td>1912</td>\n",
       "      <td>0.229295</td>\n",
       "    </tr>\n",
       "    <tr>\n",
       "      <th>5</th>\n",
       "      <td>1085</td>\n",
       "      <td>0.149015</td>\n",
       "    </tr>\n",
       "    <tr>\n",
       "      <th>6</th>\n",
       "      <td>0</td>\n",
       "      <td>0.146306</td>\n",
       "    </tr>\n",
       "    <tr>\n",
       "      <th>7</th>\n",
       "      <td>698</td>\n",
       "      <td>0.115330</td>\n",
       "    </tr>\n",
       "    <tr>\n",
       "      <th>8</th>\n",
       "      <td>567</td>\n",
       "      <td>0.096310</td>\n",
       "    </tr>\n",
       "    <tr>\n",
       "      <th>9</th>\n",
       "      <td>58</td>\n",
       "      <td>0.084360</td>\n",
       "    </tr>\n",
       "    <tr>\n",
       "      <th>10</th>\n",
       "      <td>428</td>\n",
       "      <td>0.064309</td>\n",
       "    </tr>\n",
       "    <tr>\n",
       "      <th>11</th>\n",
       "      <td>563</td>\n",
       "      <td>0.062780</td>\n",
       "    </tr>\n",
       "    <tr>\n",
       "      <th>12</th>\n",
       "      <td>860</td>\n",
       "      <td>0.057826</td>\n",
       "    </tr>\n",
       "  </tbody>\n",
       "</table>\n",
       "</div>"
      ],
      "text/plain": [
       "    Node  Centrality\n",
       "1    107    0.480518\n",
       "2   1684    0.337797\n",
       "3   3437    0.236115\n",
       "4   1912    0.229295\n",
       "5   1085    0.149015\n",
       "6      0    0.146306\n",
       "7    698    0.115330\n",
       "8    567    0.096310\n",
       "9     58    0.084360\n",
       "10   428    0.064309\n",
       "11   563    0.062780\n",
       "12   860    0.057826"
      ]
     },
     "execution_count": 16,
     "metadata": {},
     "output_type": "execute_result"
    }
   ],
   "source": [
    "spb_12_nodes = sorted(spb_centrality.items(), key=lambda f: f[1], reverse = True)[:12]\n",
    "df_spb_12_nodes = pd.DataFrame.from_records(spb_12_nodes, columns =['Node', 'Centrality']) \n",
    "df_spb_12_nodes.index = df_spb_12_nodes.index + 1\n",
    "df_spb_12_nodes"
   ]
  },
  {
   "cell_type": "code",
   "execution_count": 17,
   "metadata": {},
   "outputs": [
    {
     "data": {
      "image/png": "[encoded data removed]",
      "text/plain": [
       "<Figure size 432x288 with 1 Axes>"
      ]
     },
     "metadata": {},
     "output_type": "display_data"
    }
   ],
   "source": [
    "kz_network = dict(sorted(kz_centrality.items(), key=lambda f: f[1], reverse = True))\n",
    "eg_network = dict(sorted(eg_centrality.items(), key=lambda f: f[1], reverse = True))\n",
    "spb_network = dict(sorted(spb_centrality.items(), key=lambda f: f[1], reverse = True))\n",
    "# Katz Heat Map\n",
    "\n",
    "# Eigenvector Heat Map\n",
    "\n",
    "# Shortest Path Betweenness Heat Map\n",
    "spb_heat_graph = nx.Graph()\n",
    "spb_heat_graph.add_nodes_from(node_list)\n",
    "values = [spb_network.get(node) for node in spb_heat_graph.nodes()]\n",
    "normed_values = [i / max(values) for i in values]\n",
    "nx.draw(spb_heat_graph,pos = pos,node_size = 25,cmap=plt.cm.Reds, node_color=normed_values)"
   ]
  },
  {
   "cell_type": "code",
   "execution_count": 18,
   "metadata": {},
   "outputs": [],
   "source": [
    "# Eigenvector_Centrality\n",
    "eg_centrality_cluster_1 = nx.eigenvector_centrality(cluster_1)\n",
    "eg_centrality_cluster_2 = nx.eigenvector_centrality(cluster_2)\n",
    "eg_centrality_cluster_3 = nx.eigenvector_centrality(cluster_3)\n",
    "eg_centrality_cluster_4 = nx.eigenvector_centrality(cluster_4)\n",
    "eg_centrality_cluster_5 = nx.eigenvector_centrality(cluster_5)\n",
    "eg_centrality_cluster_6 = nx.eigenvector_centrality(cluster_6)\n",
    "eg_centrality_cluster_7 = nx.eigenvector_centrality(cluster_7)"
   ]
  },
  {
   "cell_type": "code",
   "execution_count": 19,
   "metadata": {
    "scrolled": false
   },
   "outputs": [
    {
     "name": "stdout",
     "output_type": "stream",
     "text": [
      "First 3 nodes with highest Eigenvector Centrality in Cluster 1\n"
     ]
    },
    {
     "data": {
      "text/plain": [
       "[('686', 0.25880072920040936),\n",
       " ('828', 0.2004968150890938),\n",
       " ('805', 0.17803866421470652)]"
      ]
     },
     "metadata": {},
     "output_type": "display_data"
    },
    {
     "name": "stdout",
     "output_type": "stream",
     "text": [
      "First 3 nodes with highest Eigenvector Centrality in Cluster 2\n"
     ]
    },
    {
     "data": {
      "text/plain": [
       "[('1912', 0.0953996564327679),\n",
       " ('2266', 0.08698335972782731),\n",
       " ('2206', 0.08605211988335866)]"
      ]
     },
     "metadata": {},
     "output_type": "display_data"
    },
    {
     "name": "stdout",
     "output_type": "stream",
     "text": [
      "First 3 nodes with highest Eigenvector Centrality in Cluster 3\n"
     ]
    },
    {
     "data": {
      "text/plain": [
       "[('3980', 0.46686674691535723),\n",
       " ('4030', 0.2711545321419944),\n",
       " ('4023', 0.25374205329298866)]"
      ]
     },
     "metadata": {},
     "output_type": "display_data"
    },
    {
     "name": "stdout",
     "output_type": "stream",
     "text": [
      "First 3 nodes with highest Eigenvector Centrality in Cluster 4\n"
     ]
    },
    {
     "data": {
      "text/plain": [
       "[('0', 0.28835541648107504),\n",
       " ('56', 0.18024335659939258),\n",
       " ('67', 0.17931848075904588)]"
      ]
     },
     "metadata": {},
     "output_type": "display_data"
    },
    {
     "name": "stdout",
     "output_type": "stream",
     "text": [
      "First 3 nodes with highest Eigenvector Centrality in Cluster 5\n"
     ]
    },
    {
     "data": {
      "text/plain": [
       "[('3437', 0.353440790873072),\n",
       " ('3938', 0.16595446985068138),\n",
       " ('3596', 0.16503603551554732)]"
      ]
     },
     "metadata": {},
     "output_type": "display_data"
    },
    {
     "name": "stdout",
     "output_type": "stream",
     "text": [
      "First 3 nodes with highest Eigenvector Centrality in Cluster 6\n"
     ]
    },
    {
     "data": {
      "text/plain": [
       "[('107', 0.1377049618770057),\n",
       " ('1888', 0.11458431961193596),\n",
       " ('1800', 0.11046552231295347)]"
      ]
     },
     "metadata": {},
     "output_type": "display_data"
    },
    {
     "name": "stdout",
     "output_type": "stream",
     "text": [
      "First 3 nodes with highest Eigenvector Centrality in Cluster 7\n"
     ]
    },
    {
     "data": {
      "text/plain": [
       "[('1684', 0.2418001346686849),\n",
       " ('2839', 0.1284419336492371),\n",
       " ('3363', 0.12479561022132571)]"
      ]
     },
     "metadata": {},
     "output_type": "display_data"
    }
   ],
   "source": [
    "print(\"First 3 nodes with highest Eigenvector Centrality in Cluster 1\")\n",
    "display(sorted(eg_centrality_cluster_1.items(), key=lambda f: f[1], reverse = True)[:3])\n",
    "print(\"First 3 nodes with highest Eigenvector Centrality in Cluster 2\")\n",
    "display(sorted(eg_centrality_cluster_2.items(), key=lambda f: f[1], reverse = True)[:3])\n",
    "print(\"First 3 nodes with highest Eigenvector Centrality in Cluster 3\")\n",
    "display(sorted(eg_centrality_cluster_3.items(), key=lambda f: f[1], reverse = True)[:3])\n",
    "print(\"First 3 nodes with highest Eigenvector Centrality in Cluster 4\")\n",
    "display(sorted(eg_centrality_cluster_4.items(), key=lambda f: f[1], reverse = True)[:3])\n",
    "print(\"First 3 nodes with highest Eigenvector Centrality in Cluster 5\")\n",
    "display(sorted(eg_centrality_cluster_5.items(), key=lambda f: f[1], reverse = True)[:3])\n",
    "print(\"First 3 nodes with highest Eigenvector Centrality in Cluster 6\")\n",
    "display(sorted(eg_centrality_cluster_6.items(), key=lambda f: f[1], reverse = True)[:3])\n",
    "print(\"First 3 nodes with highest Eigenvector Centrality in Cluster 7\")\n",
    "display(sorted(eg_centrality_cluster_7.items(), key=lambda f: f[1], reverse = True)[:3])"
   ]
  },
  {
   "cell_type": "code",
   "execution_count": 20,
   "metadata": {},
   "outputs": [],
   "source": [
    "# Alpha for cluster_1\n",
    "adj_mat_1 = nx.to_numpy_matrix(cluster_1)\n",
    "e_vals_1,e_vecs_1 = eigs(adj_mat_1)\n",
    "e_val_max_1 = max(e_vals_1)\n",
    "rho_1 = 1/e_val_max_1\n",
    "alpha_1 = (rho_1 - 0.004).real\n",
    "\n",
    "# Alpha for cluster_2\n",
    "adj_mat_2 = nx.to_numpy_matrix(cluster_2)\n",
    "e_vals_2,e_vecs_2 = eigs(adj_mat_2)\n",
    "e_val_max_2 = max(e_vals_2)\n",
    "rho_2 = 1/e_val_max_2\n",
    "alpha_2 = (rho_2 - 0.013).real\n",
    "\n",
    "# Alpha for cluster_3\n",
    "adj_mat_3 = nx.to_numpy_matrix(cluster_3)\n",
    "e_vals_3,e_vecs_3 = eigs(adj_mat_3)\n",
    "e_val_max_3 = max(e_vals_3)\n",
    "rho_3 = 1/e_val_max_3\n",
    "alpha_3 = (rho_3 - 0.012).real\n",
    "\n",
    "# Alpha for cluster_4\n",
    "adj_mat_4 = nx.to_numpy_matrix(cluster_4)\n",
    "e_vals_4,e_vecs_4 = eigs(adj_mat_4)\n",
    "e_val_max_4 = max(e_vals_4)\n",
    "rho_4 = 1/e_val_max_4\n",
    "alpha_4 = (rho_4 - 0.04).real\n",
    "\n",
    "# Alpha for cluster_5\n",
    "adj_mat_5 = nx.to_numpy_matrix(cluster_5)\n",
    "e_vals_5,e_vecs_5 = eigs(adj_mat_5)\n",
    "e_val_max_5 = max(e_vals_5)\n",
    "rho_5 = 1/e_val_max_5\n",
    "alpha_5 = (rho_5 - 0.012).real\n",
    "\n",
    "# Alpha for cluster_6\n",
    "adj_mat_6 = nx.to_numpy_matrix(cluster_6)\n",
    "e_vals_6,e_vecs_6 = eigs(adj_mat_6)\n",
    "e_val_max_6 = max(e_vals_6)\n",
    "rho_6 = 1/e_val_max_6\n",
    "alpha_6 = (rho_6 - 0.003).real\n",
    "\n",
    "# Alpha for cluster_7\n",
    "adj_mat_7 = nx.to_numpy_matrix(cluster_7)\n",
    "e_vals_7,e_vecs_7 = eigs(adj_mat_7)\n",
    "e_val_max_7 = max(e_vals_7)\n",
    "rho_7 = 1/e_val_max_7\n",
    "alpha_7 = (rho_7 - 0.007).real"
   ]
  },
  {
   "cell_type": "code",
   "execution_count": null,
   "metadata": {},
   "outputs": [],
   "source": [
    "# Katz Centrality\n",
    "kz_centrality_cluster_1 = nx.katz_centrality(cluster_1, alpha_1)\n",
    "kz_centrality_cluster_2 = nx.katz_centrality(cluster_2, alpha_2)\n",
    "kz_centrality_cluster_3 = nx.katz_centrality(cluster_3, alpha_3)\n",
    "kz_centrality_cluster_4 = nx.katz_centrality(cluster_4, alpha_4)\n",
    "kz_centrality_cluster_5 = nx.katz_centrality(cluster_5, alpha_5)\n",
    "kz_centrality_cluster_6 = nx.katz_centrality(cluster_6, alpha_6)\n",
    "kz_centrality_cluster_7 = nx.katz_centrality(cluster_7, alpha_7)"
   ]
  },
  {
   "cell_type": "code",
   "execution_count": null,
   "metadata": {},
   "outputs": [],
   "source": [
    "print(\"First 3 nodes with highest Katz Centrality in Cluster 1\")\n",
    "display(sorted(kz_centrality_cluster_1.items(), key=lambda f: f[1], reverse = True)[:3])\n",
    "print(\"First 3 nodes with highest Katz Centrality in Cluster 2\")\n",
    "display(sorted(kz_centrality_cluster_2.items(), key=lambda f: f[1], reverse = True)[:3])\n",
    "print(\"First 3 nodes with highest Katz Centrality in Cluster 3\")\n",
    "display(sorted(kz_centrality_cluster_3.items(), key=lambda f: f[1], reverse = True)[:3])\n",
    "print(\"First 3 nodes with highest Katz Centrality in Cluster 4\")\n",
    "display(sorted(kz_centrality_cluster_4.items(), key=lambda f: f[1], reverse = True)[:3])\n",
    "print(\"First 3 nodes with highest Katz Centrality in Cluster 5\")\n",
    "display(sorted(kz_centrality_cluster_5.items(), key=lambda f: f[1], reverse = True)[:3])\n",
    "print(\"First 3 nodes with highest Katz Centrality in Cluster 6\")\n",
    "display(sorted(kz_centrality_cluster_6.items(), key=lambda f: f[1], reverse = True)[:3])\n",
    "print(\"First 3 nodes with highest Katz Centrality in Cluster 7\")\n",
    "display(sorted(kz_centrality_cluster_7.items(), key=lambda f: f[1], reverse = True)[:3])"
   ]
  },
  {
   "cell_type": "code",
   "execution_count": null,
   "metadata": {},
   "outputs": [],
   "source": [
    "# Degree Centrality\n",
    "dg_centrality_cluster_1 = nx.degree_centrality(cluster_1)\n",
    "dg_centrality_cluster_2 = nx.degree_centrality(cluster_2)\n",
    "dg_centrality_cluster_3 = nx.degree_centrality(cluster_3)\n",
    "dg_centrality_cluster_4 = nx.degree_centrality(cluster_4)\n",
    "dg_centrality_cluster_5 = nx.degree_centrality(cluster_5)\n",
    "dg_centrality_cluster_6 = nx.degree_centrality(cluster_6)\n",
    "dg_centrality_cluster_7 = nx.degree_centrality(cluster_7)"
   ]
  },
  {
   "cell_type": "code",
   "execution_count": null,
   "metadata": {},
   "outputs": [],
   "source": [
    "print(\"First 3 nodes with highest Degree Centrality in Cluster 1\")\n",
    "display(sorted(dg_centrality_cluster_1.items(), key=lambda f: f[1], reverse = True)[:3])\n",
    "print(\"First 3 nodes with highest Degree Centrality in Cluster 2\")\n",
    "display(sorted(dg_centrality_cluster_2.items(), key=lambda f: f[1], reverse = True)[:3])\n",
    "print(\"First 3 nodes with highest Degree Centrality in Cluster 3\")\n",
    "display(sorted(dg_centrality_cluster_3.items(), key=lambda f: f[1], reverse = True)[:3])\n",
    "print(\"First 3 nodes with highest Degree Centrality in Cluster 4\")\n",
    "display(sorted(dg_centrality_cluster_4.items(), key=lambda f: f[1], reverse = True)[:3])\n",
    "print(\"First 3 nodes with highest Degree Centrality in Cluster 5\")\n",
    "display(sorted(dg_centrality_cluster_5.items(), key=lambda f: f[1], reverse = True)[:3])\n",
    "print(\"First 3 nodes with highest Degree Centrality in Cluster 6\")\n",
    "display(sorted(dg_centrality_cluster_6.items(), key=lambda f: f[1], reverse = True)[:3])\n",
    "print(\"First 3 nodes with highest Degree Centrality in Cluster 7\")\n",
    "display(sorted(dg_centrality_cluster_7.items(), key=lambda f: f[1], reverse = True)[:3])"
   ]
  },
  {
   "cell_type": "code",
   "execution_count": null,
   "metadata": {},
   "outputs": [],
   "source": [
    "# Shortest Path Betweenness\n",
    "spb_centrality_cluster_1 = nx.betweenness_centrality(cluster_1)\n",
    "spb_centrality_cluster_2 = nx.betweenness_centrality(cluster_2)\n",
    "spb_centrality_cluster_3 = nx.betweenness_centrality(cluster_3)\n",
    "spb_centrality_cluster_4 = nx.betweenness_centrality(cluster_4)\n",
    "spb_centrality_cluster_5 = nx.betweenness_centrality(cluster_5)\n",
    "spb_centrality_cluster_6 = nx.betweenness_centrality(cluster_6)\n",
    "spb_centrality_cluster_7 = nx.betweenness_centrality(cluster_7)"
   ]
  },
  {
   "cell_type": "code",
   "execution_count": 26,
   "metadata": {
    "scrolled": false
   },
   "outputs": [
    {
     "name": "stdout",
     "output_type": "stream",
     "text": [
      "First 3 nodes with highest Shortest Path Betweenness Centrality in Cluster 1\n"
     ]
    },
    {
     "data": {
      "text/plain": [
       "[('107', 0.7104696942282979),\n",
       " ('348', 0.11542910834987723),\n",
       " ('414', 0.11129460277939658)]"
      ]
     },
     "metadata": {},
     "output_type": "display_data"
    },
    {
     "name": "stdout",
     "output_type": "stream",
     "text": [
      "First 3 nodes with highest Shortest Path Betweenness Centrality in Cluster 2\n"
     ]
    },
    {
     "data": {
      "text/plain": [
       "[('686', 0.4907582461253097),\n",
       " ('698', 0.24257190870142076),\n",
       " ('713', 0.032460162964646676)]"
      ]
     },
     "metadata": {},
     "output_type": "display_data"
    },
    {
     "name": "stdout",
     "output_type": "stream",
     "text": [
      "First 3 nodes with highest Shortest Path Betweenness Centrality in Cluster 3\n"
     ]
    },
    {
     "data": {
      "text/plain": [
       "[('0', 0.8222676950934286),\n",
       " ('25', 0.00749063723875261),\n",
       " ('119', 0.0067524652823519465)]"
      ]
     },
     "metadata": {},
     "output_type": "display_data"
    },
    {
     "name": "stdout",
     "output_type": "stream",
     "text": [
      "First 3 nodes with highest Shortest Path Betweenness Centrality in Cluster 4\n"
     ]
    },
    {
     "data": {
      "text/plain": [
       "[('3980', 0.7955713729091872),\n",
       " ('4030', 0.021637304834265673),\n",
       " ('4023', 0.02132907517185717)]"
      ]
     },
     "metadata": {},
     "output_type": "display_data"
    },
    {
     "name": "stdout",
     "output_type": "stream",
     "text": [
      "First 3 nodes with highest Shortest Path Betweenness Centrality in Cluster 5\n"
     ]
    },
    {
     "data": {
      "text/plain": [
       "[('3437', 0.8644162623748805),\n",
       " ('3830', 0.011426165011331174),\n",
       " ('3604', 0.003740224037972201)]"
      ]
     },
     "metadata": {},
     "output_type": "display_data"
    },
    {
     "name": "stdout",
     "output_type": "stream",
     "text": [
      "First 3 nodes with highest Shortest Path Betweenness Centrality in Cluster 6\n"
     ]
    },
    {
     "data": {
      "text/plain": [
       "[('1912', 0.6295255202703377),\n",
       " ('2543', 0.021402194593536414),\n",
       " ('2347', 0.018859994947701568)]"
      ]
     },
     "metadata": {},
     "output_type": "display_data"
    },
    {
     "name": "stdout",
     "output_type": "stream",
     "text": [
      "First 3 nodes with highest Shortest Path Betweenness Centrality in Cluster 7\n"
     ]
    },
    {
     "data": {
      "text/plain": [
       "[('1684', 0.7702087236836526),\n",
       " ('2951', 0.0030491904468889445),\n",
       " ('2730', 0.0026375358159272857)]"
      ]
     },
     "metadata": {},
     "output_type": "display_data"
    }
   ],
   "source": [
    "print(\"First 3 nodes with highest Shortest Path Betweenness Centrality in Cluster 1\")\n",
    "display(sorted(spb_centrality_cluster_1.items(), key=lambda f: f[1], reverse = True)[:3])\n",
    "print(\"First 3 nodes with highest Shortest Path Betweenness Centrality in Cluster 2\")\n",
    "display(sorted(spb_centrality_cluster_2.items(), key=lambda f: f[1], reverse = True)[:3])\n",
    "print(\"First 3 nodes with highest Shortest Path Betweenness Centrality in Cluster 3\")\n",
    "display(sorted(spb_centrality_cluster_3.items(), key=lambda f: f[1], reverse = True)[:3])\n",
    "print(\"First 3 nodes with highest Shortest Path Betweenness Centrality in Cluster 4\")\n",
    "display(sorted(spb_centrality_cluster_4.items(), key=lambda f: f[1], reverse = True)[:3])\n",
    "print(\"First 3 nodes with highest Shortest Path Betweenness Centrality in Cluster 5\")\n",
    "display(sorted(spb_centrality_cluster_5.items(), key=lambda f: f[1], reverse = True)[:3])\n",
    "print(\"First 3 nodes with highest Shortest Path Betweenness Centrality in Cluster 6\")\n",
    "display(sorted(spb_centrality_cluster_6.items(), key=lambda f: f[1], reverse = True)[:3])\n",
    "print(\"First 3 nodes with highest Shortest Path Betweenness Centrality in Cluster 7\")\n",
    "display(sorted(spb_centrality_cluster_7.items(), key=lambda f: f[1], reverse = True)[:3])"
   ]
  },
  {
   "cell_type": "code",
   "execution_count": null,
   "metadata": {},
   "outputs": [],
   "source": [
    "# KMeans\n"
   ]
  },
  {
   "cell_type": "code",
   "execution_count": null,
   "metadata": {},
   "outputs": [],
   "source": []
  },
  {
   "cell_type": "code",
   "execution_count": null,
   "metadata": {},
   "outputs": [],
   "source": [
    "# Further KMeans Test\n",
    "centroid_7_kz = [i[0] for i in sorted(kz_centrality.items(), key=lambda f: f[1], reverse = True)[:7]]\n",
    "centroid_7_kz\n",
    "\n",
    "km = KMeans( n_clusters=7 )\n",
    "km.cluster_centers_ = centroid_7_kz\n",
    "pos"
   ]
  }
 ],
 "metadata": {
  "kernelspec": {
   "display_name": "Python 3",
   "language": "python",
   "name": "python3"
  },
  "language_info": {
   "codemirror_mode": {
    "name": "ipython",
    "version": 3
   },
   "file_extension": ".py",
   "mimetype": "text/x-python",
   "name": "python",
   "nbconvert_exporter": "python",
   "pygments_lexer": "ipython3",
   "version": "3.8.3"
  }
 },
 "nbformat": 4,
 "nbformat_minor": 4
}
